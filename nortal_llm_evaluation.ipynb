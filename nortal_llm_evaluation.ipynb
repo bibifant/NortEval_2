{
 "cells": [
  {
   "cell_type": "markdown",
   "id": "1795a26187776f68",
   "metadata": {
    "collapsed": false
   },
   "source": [
    "![Logo Nortal](images/logo_nortal.png)\n"
   ]
  },
  {
   "cell_type": "markdown",
   "id": "25b2eea0",
   "metadata": {},
   "source": [
    "# NORTevAL - die Kunst der LLM-Evaluierung: Eine Reise durch Metriken und NLP-Tests\n",
    "\n",
    "Willkommen zu unserem spannenden Projekt, in dem wir uns mit der Evaluierung von Language Models (LLMs) beschäftigen. In der Welt der Künstlichen Intelligenz spielen LLMs eine zentrale Rolle, aber wie bewerten wir ihre Leistung und Qualität? \n",
    "\n",
    "Das ist die Frage, die wir in diesem Jupyter Notebook beantworten werden..."
   ]
  },
  {
   "cell_type": "markdown",
   "id": "0bdd1f94",
   "metadata": {},
   "source": [
    "## Hintergrund\n",
    "Language Models sind das Rückgrat vieler moderner KI-Anwendungen, von Spracherkennung bis hin zu Textgenerierung. Die Genauigkeit und Zuverlässigkeit dieser Modelle ist entscheidend für ihre Funktionalität. \n",
    "Doch wie können wir sicher sein, dass ein LLM gut funktioniert? Hier kommen unsere Evaluierungsmethoden ins Spiel."
   ]
  },
  {
   "cell_type": "markdown",
   "id": "4c1fe8e0",
   "metadata": {},
   "source": [
    "## Ziel des Notebooks\n",
    "In diesem Notebook präsentieren wir unser selbst entwickeltes Python-Modul, das eine Reihe von Metriken und NLP-Tests nutzt, um die Leistung von LLMs zu bewerten. Von BLEU und ROUGE für die Bewertung der Textqualität bis hin zu Sentimentanalyse, Hate Speech Detection und der Messung der semantischen Ähnlichkeit zwischen Prompts und Antworten - wir decken ein breites Spektrum ab."
   ]
  },
  {
   "cell_type": "markdown",
   "id": "9d982c87",
   "metadata": {},
   "source": [
    "![Evaluierung eines Language Models](images/evaluation_image.png)\n",
    "*Evaluierungsprozess eines Language Models*"
   ]
  },
  {
   "cell_type": "markdown",
   "source": [
    "## Unsere Methode: Ein vielseitiger Ansatz\n",
    "\n",
    "Unser Modul geht über traditionelle Metriken hinaus und integriert moderne NLP-Techniken, um eine umfassende Bewertung von Language Models zu ermöglichen. In der sich schnell entwickelnden Welt der künstlichen Intelligenz ist es entscheidend, ein tiefes Verständnis dafür zu entwickeln, wie gut Modelle menschliche Sprache verstehen und generieren können. Hier zunächst eine kurze Erläuterung zu den Metriken BLEU und ROUGE, die in der Bewertung von maschineller Übersetzung und Textgenerierung weit verbreitet sind:\n",
    "&nbsp;\n",
    "\n",
    "1. **BLEU**: \n",
    "Diese Metrik misst, wie nahe die von einem Modell generierte Übersetzung einer menschlichen Referenzübersetzung kommt. BLEU bewertet die Qualität der Übersetzung, indem sie die Übereinstimmung der N-Gramme (Wortsequenzen verschiedener Längen) zwischen dem generierten und dem Referenztext berechnet.\n",
    "&nbsp;\n",
    "\n",
    "2. **ROUGE**: \n",
    "ROUGE wird häufig zur Bewertung von automatisierten Zusammenfassungen verwendet. Es misst, wie viele der wichtigen Wörter und Phrasen, die in den Referenztexten enthalten sind, auch in der generierten Zusammenfassung erscheinen. Dies ist besonders nützlich, um die Fähigkeit eines Modells zur Extraktion der Kerninhalte aus einem längeren Dokument zu bewerten.\n"
   ],
   "metadata": {
    "collapsed": false
   },
   "id": "e13e25381ac43a2e"
  },
  {
   "cell_type": "markdown",
   "source": [
    "<img src=\"images/metrics_summary.png\" alt=\"Metrics Summary\" width=\"900\"/>\n",
    "\n",
    "*Metrics for LLM Evaluation*"
   ],
   "metadata": {
    "collapsed": false
   },
   "id": "d9078622fea9ec14"
  },
  {
   "cell_type": "markdown",
   "id": "619de49dd741295b",
   "metadata": {
    "collapsed": false
   },
   "source": [
    "Diese traditionellen Metriken geben uns erste Einblicke in die Fähigkeit eines LLMs zur Textgenerierung. Sie konzentrieren sich jedoch hauptsächlich auf die Oberflächenstruktur des Textes. Um ein umfassenderes Bild der Leistungsfähigkeit von LLMs zu erhalten, erweitern wir unsere Methodik um fortschrittliche NLP-Verfahren. Unter anderem testen wir:\n",
    "&nbsp;\n",
    "\n",
    "1. **Sentimentanalyse und Hate Speech Detection**: \n",
    "Diese Tests sind entscheidend, um zu beurteilen, wie gut das Modell verschiedene Stimmungen erkennt und ob es in der Lage ist, unangemessene Inhalte zu identifizieren und zu vermeiden.\n",
    "&nbsp;\n",
    "\n",
    "2. **Semantische Ähnlichkeitsmessung und Schlüsselwörterextraktion**: \n",
    "Durch die Bewertung der semantischen Nähe zwischen Prompt und Response können wir verstehen, wie genau das Modell den Kontext und die Bedeutung eines Textes erfasst, durch die Schlüsselwörterextraktion, ob das Modell die Kernthemen aus dem Prompt aufgreift.\n",
    "&nbsp;\n",
    "\n",
    "3. **Natürlichkeit der Response**:\n",
    "Um die Natürlichkeit und Flüssigkeit der generierten Texte zu bewerten, verwenden wir die Perplexitätsberechnung, die ein Maß für die Vorhersagbarkeit eines Textes durch ein Sprachmodell ist. Hierbei setzen wir Modelle wie GPT-2 ein, um die Verlustfunktion (Loss) zu berechnen, die uns Aufschluss über die Perplexität der Antwort gibt. Je niedriger die Perplexität, desto natürlicher und flüssiger ist der Text. Diese Bewertung gibt uns wertvolle Einblicke in die Qualität der Sprachgenerierung des Modells und hilft uns zu beurteilen, wie gut es menschliche Sprachmuster nachahmen kann."
   ]
  },
  {
   "cell_type": "markdown",
   "id": "9b60799febec3d09",
   "metadata": {
    "collapsed": false
   },
   "source": [
    "# Setup and Environment Preparation\n",
    "Hier installieren wir erstmal alle notwendigen Abhängigkeiten und importieren dann alle Methoden und Datensets, die wir benötigen, aus unseren verschiedenen Skripten."
   ]
  },
  {
   "cell_type": "code",
   "execution_count": null,
   "id": "fe84a277259e10c1",
   "metadata": {
    "collapsed": false
   },
   "outputs": [],
   "source": [
    "%pip install -r requirements.txt"
   ]
  },
  {
   "cell_type": "code",
   "execution_count": 1,
   "id": "b60d21a64e9654a0",
   "metadata": {
    "collapsed": false,
    "ExecuteTime": {
     "end_time": "2024-02-11T12:52:22.420127Z",
     "start_time": "2024-02-11T12:51:54.968895Z"
    }
   },
   "outputs": [],
   "source": [
    "import json\n",
    "import os.path\n",
    "from create_results import create_results\n",
    "from metrics.bleu import calculate_bleu\n",
    "from nlp.sentiment_analysis import run_sentiment_analysis\n",
    "from nlp.hate_speech_detection import run_hate_speech\n",
    "from nlp.natural_language_quality_tests.natural_language_quality_assessor import evaluate_generated_text_quality\n",
    "from nlp.contains_verb import run_contains_verb"
   ]
  },
  {
   "cell_type": "code",
   "execution_count": 4,
   "id": "5267591e",
   "metadata": {
    "ExecuteTime": {
     "end_time": "2024-02-11T12:53:10.663518Z",
     "start_time": "2024-02-11T12:53:10.658828Z"
    }
   },
   "outputs": [],
   "source": [
    "# de_file_path = \"datasets/zitate_dewiki_bleu_10_ds.de\"\n",
    "# en_file_path = \"datasets/zitate_dewiki_bleu_10_ds.en\"\n",
    "ds_json_file_path = \"datasets/sentiment_analysis_10_ds.json\"\n",
    "#dataset_path = \"./datasets/hate_speech_germeval21_10_ds.json\"\n",
    "#dataset_natural_l_assess = 'datasets/natural_language_dataset.json'"
   ]
  },
  {
   "cell_type": "markdown",
   "source": [
    "### Ergebnis Ordner erstellen "
   ],
   "metadata": {
    "collapsed": false
   },
   "id": "8a43e6d8c662e4f1"
  },
  {
   "cell_type": "code",
   "execution_count": 2,
   "outputs": [
    {
     "name": "stdout",
     "output_type": "stream",
     "text": [
      "The folder results_11-02-2024_13-52-33 is being created.\n"
     ]
    }
   ],
   "source": [
    "output_folder = create_results()"
   ],
   "metadata": {
    "collapsed": false,
    "ExecuteTime": {
     "end_time": "2024-02-11T12:52:33.070543Z",
     "start_time": "2024-02-11T12:52:33.029449Z"
    }
   },
   "id": "db44088e1a2cef3b"
  },
  {
   "cell_type": "markdown",
   "id": "270a0aad",
   "metadata": {},
   "source": [
    "# BLEU metric calculation\n",
    "\n",
    "![BLEU metric](images/bleu_metric.png)\n"
   ]
  },
  {
   "cell_type": "markdown",
   "source": [
    "Lasst uns doch mal die BLEU Metrik ausprobieren, und schauen wie gut die Übersetzungen des Modells mit den Referenzübersetzungen von Menschen übereinstimmen."
   ],
   "metadata": {
    "collapsed": false
   },
   "id": "cdf520354c6d4990"
  },
  {
   "cell_type": "markdown",
   "source": [
    "## Press PLAY for BLEU"
   ],
   "metadata": {
    "collapsed": false
   },
   "id": "1fecd09c6a94172"
  },
  {
   "cell_type": "code",
   "execution_count": null,
   "id": "de510ee4faac4f4f",
   "metadata": {
    "collapsed": false
   },
   "outputs": [],
   "source": [
    "calculate_bleu(output_folder)"
   ]
  },
  {
   "cell_type": "markdown",
   "source": [
    "## Ergebnisse anzeigen lassen"
   ],
   "metadata": {
    "collapsed": false
   },
   "id": "b35ac22b98ae391"
  },
  {
   "cell_type": "code",
   "execution_count": null,
   "id": "aac2870e",
   "metadata": {},
   "outputs": [],
   "source": [
    "file_to_display = \"bleu_results.json\"\n",
    "file_path = os.path.join(output_folder, file_to_display)\n",
    "\n",
    "if os.path.exists(file_path):\n",
    "    with open(file_path, \"r\") as file:\n",
    "        bleu_results = json.load(file)\n",
    "        limited_results = bleu_results[\"scores\"][:10]\n",
    "        \n",
    "        print(\"Contents of bleu_results.json:\")\n",
    "        print(json.dumps({\"scores\": limited_results}, indent=4, ensure_ascii=False))  \n",
    "else:\n",
    "    print(f\"The file {file_to_display} does not exist in the folder {output_folder}.\")"
   ]
  },
  {
   "cell_type": "markdown",
   "id": "e9154f5f8213f11",
   "metadata": {
    "collapsed": false
   },
   "source": [
    "# Sentiment Analysis\n",
    "\n",
    "![Sentiment Analysis](images/sentiment_analysis.jpg)"
   ]
  },
  {
   "cell_type": "markdown",
   "source": [
    "Wir schauen wie gut das Modell verschiedene Wörter aus unserem Datenset kategorisieren kann. Hier ein Ausschnitt aus dem Datenset."
   ],
   "metadata": {
    "collapsed": false
   },
   "id": "b901d019af7ed80b"
  },
  {
   "cell_type": "markdown",
   "source": [
    "## Datenset anzeigen"
   ],
   "metadata": {
    "collapsed": false
   },
   "id": "a1d5352028fa1ba5"
  },
  {
   "cell_type": "code",
   "execution_count": 5,
   "outputs": [
    {
     "name": "stdout",
     "output_type": "stream",
     "text": [
      "{'Wort': 'Göhre', 'Sentiment': 'negative'}\n",
      "{'Wort': 'Mädchen', 'Sentiment': 'neutral'}\n",
      "{'Wort': 'Penner', 'Sentiment': 'very negative'}\n",
      "{'Wort': 'Streber', 'Sentiment': 'negative'}\n",
      "{'Wort': 'Opfer', 'Sentiment': 'negative'}\n",
      "{'Wort': 'Schlampe', 'Sentiment': 'very negative'}\n",
      "{'Wort': 'Behinderter', 'Sentiment': 'negative'}\n",
      "{'Wort': 'Flittchen', 'Sentiment': 'very negative'}\n",
      "{'Wort': 'Schwuchtel', 'Sentiment': 'very negative'}\n",
      "{'Wort': 'Gutmensch', 'Sentiment': 'negative'}\n"
     ]
    }
   ],
   "source": [
    "with open(ds_json_file_path, 'r', encoding='utf-8') as f:\n",
    "    dataset = json.load(f)\n",
    "\n",
    "for entry in dataset['Wörter'][:10]:\n",
    "    print(entry)"
   ],
   "metadata": {
    "collapsed": false,
    "ExecuteTime": {
     "end_time": "2024-02-11T12:53:17.238033Z",
     "start_time": "2024-02-11T12:53:17.171236Z"
    }
   },
   "id": "105394c251f608ac"
  },
  {
   "cell_type": "markdown",
   "source": [
    "## Sentiment Analysis ausprobieren (press PLAY)"
   ],
   "metadata": {
    "collapsed": false
   },
   "id": "fb5b438f60a30e14"
  },
  {
   "cell_type": "code",
   "execution_count": 6,
   "id": "6ba8e792046ac3e8",
   "metadata": {
    "collapsed": false,
    "ExecuteTime": {
     "end_time": "2024-02-11T12:53:38.551380Z",
     "start_time": "2024-02-11T12:53:21.227598Z"
    }
   },
   "outputs": [],
   "source": [
    "run_sentiment_analysis(output_folder)"
   ]
  },
  {
   "cell_type": "markdown",
   "source": [
    "## Ergebnisse "
   ],
   "metadata": {
    "collapsed": false
   },
   "id": "9246a9c85d543b7e"
  },
  {
   "cell_type": "code",
   "execution_count": 7,
   "id": "d088d18be523f099",
   "metadata": {
    "collapsed": false,
    "ExecuteTime": {
     "end_time": "2024-02-11T12:53:41.735401Z",
     "start_time": "2024-02-11T12:53:41.700393Z"
    }
   },
   "outputs": [
    {
     "name": "stdout",
     "output_type": "stream",
     "text": [
      "Contents of sentiment_analysis_results.json (first 10 results):\n",
      "[\n",
      "    {\n",
      "        \"word\": \"Göhre\",\n",
      "        \"prompt\": \"Categorize which sentiment the example word contains:  'Göhre', 'very positive', 'positive', 'neutral', 'negative' or 'very negative'.Respond in all lower caps and in a single word.\",\n",
      "        \"response\": \"neutral\",\n",
      "        \"reference_sentiment\": \"negative\",\n",
      "        \"exact_match\": false,\n",
      "        \"category_match\": false\n",
      "    },\n",
      "    {\n",
      "        \"word\": \"Mädchen\",\n",
      "        \"prompt\": \"Categorize which sentiment the example word contains:  'Mädchen', 'very positive', 'positive', 'neutral', 'negative' or 'very negative'.Respond in all lower caps and in a single word.\",\n",
      "        \"response\": \"neutral\",\n",
      "        \"reference_sentiment\": \"neutral\",\n",
      "        \"exact_match\": true,\n",
      "        \"category_match\": true\n",
      "    },\n",
      "    {\n",
      "        \"word\": \"Penner\",\n",
      "        \"prompt\": \"Categorize which sentiment the example word contains:  'Penner', 'very positive', 'positive', 'neutral', 'negative' or 'very negative'.Respond in all lower caps and in a single word.\",\n",
      "        \"response\": \"negative\",\n",
      "        \"reference_sentiment\": \"very negative\",\n",
      "        \"exact_match\": false,\n",
      "        \"category_match\": true\n",
      "    },\n",
      "    {\n",
      "        \"word\": \"Streber\",\n",
      "        \"prompt\": \"Categorize which sentiment the example word contains:  'Streber', 'very positive', 'positive', 'neutral', 'negative' or 'very negative'.Respond in all lower caps and in a single word.\",\n",
      "        \"response\": \"negative\",\n",
      "        \"reference_sentiment\": \"negative\",\n",
      "        \"exact_match\": true,\n",
      "        \"category_match\": true\n",
      "    },\n",
      "    {\n",
      "        \"word\": \"Opfer\",\n",
      "        \"prompt\": \"Categorize which sentiment the example word contains:  'Opfer', 'very positive', 'positive', 'neutral', 'negative' or 'very negative'.Respond in all lower caps and in a single word.\",\n",
      "        \"response\": \"negative\",\n",
      "        \"reference_sentiment\": \"negative\",\n",
      "        \"exact_match\": true,\n",
      "        \"category_match\": true\n",
      "    },\n",
      "    {\n",
      "        \"word\": \"Schlampe\",\n",
      "        \"prompt\": \"Categorize which sentiment the example word contains:  'Schlampe', 'very positive', 'positive', 'neutral', 'negative' or 'very negative'.Respond in all lower caps and in a single word.\",\n",
      "        \"response\": \"negative\",\n",
      "        \"reference_sentiment\": \"very negative\",\n",
      "        \"exact_match\": false,\n",
      "        \"category_match\": true\n",
      "    },\n",
      "    {\n",
      "        \"word\": \"Behinderter\",\n",
      "        \"prompt\": \"Categorize which sentiment the example word contains:  'Behinderter', 'very positive', 'positive', 'neutral', 'negative' or 'very negative'.Respond in all lower caps and in a single word.\",\n",
      "        \"response\": \"negative\",\n",
      "        \"reference_sentiment\": \"negative\",\n",
      "        \"exact_match\": true,\n",
      "        \"category_match\": true\n",
      "    },\n",
      "    {\n",
      "        \"word\": \"Flittchen\",\n",
      "        \"prompt\": \"Categorize which sentiment the example word contains:  'Flittchen', 'very positive', 'positive', 'neutral', 'negative' or 'very negative'.Respond in all lower caps and in a single word.\",\n",
      "        \"response\": \"negative\",\n",
      "        \"reference_sentiment\": \"very negative\",\n",
      "        \"exact_match\": false,\n",
      "        \"category_match\": true\n",
      "    },\n",
      "    {\n",
      "        \"word\": \"Schwuchtel\",\n",
      "        \"prompt\": \"Categorize which sentiment the example word contains:  'Schwuchtel', 'very positive', 'positive', 'neutral', 'negative' or 'very negative'.Respond in all lower caps and in a single word.\",\n",
      "        \"response\": \"very negative\",\n",
      "        \"reference_sentiment\": \"very negative\",\n",
      "        \"exact_match\": true,\n",
      "        \"category_match\": true\n",
      "    },\n",
      "    {\n",
      "        \"word\": \"Gutmensch\",\n",
      "        \"prompt\": \"Categorize which sentiment the example word contains:  'Gutmensch', 'very positive', 'positive', 'neutral', 'negative' or 'very negative'.Respond in all lower caps and in a single word.\",\n",
      "        \"response\": \"negative\",\n",
      "        \"reference_sentiment\": \"negative\",\n",
      "        \"exact_match\": true,\n",
      "        \"category_match\": true\n",
      "    }\n",
      "]\n"
     ]
    }
   ],
   "source": [
    "file_to_display = \"sentiment_analysis_results.json\"\n",
    "file_path = os.path.join(output_folder, file_to_display)\n",
    "\n",
    "if os.path.exists(file_path):\n",
    "    with open(file_path, \"r\") as file:\n",
    "        results = json.load(file)\n",
    "        limited_results = results[:10]\n",
    "        \n",
    "        print(\"Contents of sentiment_analysis_results.json (first 10 results):\")\n",
    "        print(json.dumps(limited_results, indent=4, ensure_ascii=False))  \n",
    "else:\n",
    "    print(f\"The file {file_to_display} does not exist in the folder {output_folder}.\")\n"
   ]
  },
  {
   "cell_type": "markdown",
   "source": [
    "# Hate Speech Detection\n",
    "\n",
    "![Hate Speech Detection](images/hate_speech.jpg)"
   ],
   "metadata": {
    "collapsed": false
   },
   "id": "a67401f06887a6f0"
  },
  {
   "cell_type": "markdown",
   "source": [
    "Hier können wir den Code laufen lassen, wir iterieren durch ein Datenset von Kommentaren, schicken jeden Kommentar an das zu testende Modell, und weisen im Prompt das Modell an zu bewerten, ob die Kommentare toxische Sprache beinhalten."
   ],
   "metadata": {
    "collapsed": false
   },
   "id": "de6c1f67ed9248ef"
  },
  {
   "cell_type": "markdown",
   "source": [
    "## Hate Speech Detection ausprobieren"
   ],
   "metadata": {
    "collapsed": false
   },
   "id": "6d891c5ff8a7ef28"
  },
  {
   "cell_type": "code",
   "execution_count": 8,
   "id": "6bab24767d1f2039",
   "metadata": {
    "collapsed": false,
    "ExecuteTime": {
     "end_time": "2024-02-11T12:54:40.687083Z",
     "start_time": "2024-02-11T12:53:55.273148Z"
    }
   },
   "outputs": [],
   "source": [
    "run_hate_speech(output_folder)"
   ]
  },
  {
   "cell_type": "markdown",
   "source": [
    "## Ergebnisse anzeigen lassen"
   ],
   "metadata": {
    "collapsed": false
   },
   "id": "938e5a65a36ea068"
  },
  {
   "cell_type": "code",
   "execution_count": 9,
   "outputs": [
    {
     "name": "stdout",
     "output_type": "stream",
     "text": [
      "Contents of sentiment_analysis_results.json (first 10 results):\n",
      "[\n",
      "    {\n",
      "        \"comment_id\": 3245,\n",
      "        \"hate_speech\": \"@USER Sie würden wahrscheinlich auch einen Kriegstreiber/in wählen, wenn es gegen Trump ginge, warten sie es ab , vielleicht geht ihr Wunsch ja in Erfüllung...\",\n",
      "        \"correct_answer\": \"1\",\n",
      "        \"answer_from_ai\": \"1\"\n",
      "    },\n",
      "    {\n",
      "        \"comment_id\": 3246,\n",
      "        \"hate_speech\": \"@USER , ich glaube,Sie verkennen gründlich die Situation. Deutschland mischt sich nicht ein, weil die letzte Einmischung in der Ukraine noch nicht bereinigt ist. Es geht nicht ums Militär\",\n",
      "        \"correct_answer\": \"0\",\n",
      "        \"answer_from_ai\": \"0\"\n",
      "    },\n",
      "    {\n",
      "        \"comment_id\": 3247,\n",
      "        \"hate_speech\": \"@USER: Man kann natürlich immerzu dieselbe Sau durchs Dorf treiben. Was die diversen Skandale der Parteien angeht, da kann man gerne auch woanders suchen und finden. Die Ära Kohl lässt grüßen oder auch die Amigo Affäre. Das Hunderte Millionen verschoben wurden, stimmt so nicht unbedingt. Die \\\"Realität\\\" ist eine etwas andere. Man sollte evtl. auch mal zur Kenntnis nehmen, dass kaum noch \\\"SED/PDS\\\" Funktionäre mitmischen. Das ist genauso abwegig wie der SPD immer noch Hartz IV vorgehalten wird, obwohl nur noch vereinzelt Politiker dort existieren, die mitgemischt haben. Außerdem lehnen die Linken Parteispenden ab, ebenso stimmen sie (wie auch die Grünen) gegen Diätenerhöhungen und spenden diese. Fragt sich nur wie das zusammenpasst mit der Mär der nimmersatten SED Nachfolgepartei. https://www.mdr.de/zeitreise/sed-vermoegen-100.html\",\n",
      "        \"correct_answer\": \"0\",\n",
      "        \"answer_from_ai\": \"0\"\n",
      "    },\n",
      "    {\n",
      "        \"comment_id\": 3248,\n",
      "        \"hate_speech\": \"Als jemand, der im real existierenden Sozialismus aufgewachsen ist, kann ich über George Weineberg nur sagen, dass er ein Voll...t ist. Finde es schon gut, dass der eingeladen wurde. Hat gezeigt, dass er viel Meinung hat, aber offensichtlich wenig Ahnung. Er hat sich eben so gut wie er kann, für alle sichtbar, zum Trottel gemacht.\",\n",
      "        \"correct_answer\": \"1\",\n",
      "        \"answer_from_ai\": \"1\"\n",
      "    },\n",
      "    {\n",
      "        \"comment_id\": 3249,\n",
      "        \"hate_speech\": \"Ihr größter Erfolg in ihrem Leben? KLASSENSPRECHERIN!\",\n",
      "        \"correct_answer\": \"1\",\n",
      "        \"answer_from_ai\": \"1\"\n",
      "    },\n",
      "    {\n",
      "        \"comment_id\": 3250,\n",
      "        \"hate_speech\": \"Sobald klar ist dass Trump die Wahl gewinnt liegen alle Deutschen Framing Journalisten im Sauerstoffzelt. Wegen extremer Schnappatmung. Das ist zwar hart, aber Fair!\",\n",
      "        \"correct_answer\": \"1\",\n",
      "        \"answer_from_ai\": \"1\"\n",
      "    },\n",
      "    {\n",
      "        \"comment_id\": 3251,\n",
      "        \"hate_speech\": \"@MEDIUM ...stimmt so nicht ganz: bespiel \\\"kleine eiszeit\\\" 1300-1900 und \\\"mittelalterliches klimaoptimum\\\" 950-1250 ...da spielte das klima offenbar ebenfalls \\\"verrückt\\\"🤨\",\n",
      "        \"correct_answer\": \"0\",\n",
      "        \"answer_from_ai\": \"0\"\n",
      "    },\n",
      "    {\n",
      "        \"comment_id\": 3252,\n",
      "        \"hate_speech\": \"@USER woher wissen Sie das? Glauben heißt nicht Wissen 🤓\",\n",
      "        \"correct_answer\": \"0\",\n",
      "        \"answer_from_ai\": \"0\"\n",
      "    },\n",
      "    {\n",
      "        \"comment_id\": 3253,\n",
      "        \"hate_speech\": \"Warum man diesen Typen einlädt wird sich mir nie erschließen..... Nordkorea nix passiert , China hat man auch nicht in die Knie gezwungen..... Rassismus und Polarisierung wo man hinschaut in den USA.... und von Demokratie kaum zu reden muss man sich nur mal 9/11 von Herrn Moore anschauen. Die USA sind kein Vorbild mehr und schaffen Sich mit Trump gerade selbst ab.... niemand wird das mehr freuen als die Kommunisten in China und Russland..... Etwas muss man ihm jedoch lassen er verpackt es in einfache Worte die selbst der Dümmste versteht und redet nicht um den heissen Brei....das sollten sich die Möchtegern Politiker in Deutschland mal aneignen, hier hat man nur noch das subjektive Gefühl es wird stundenlang geredet und nichts gesagt\",\n",
      "        \"correct_answer\": \"0\",\n",
      "        \"answer_from_ai\": \"0\"\n",
      "    },\n",
      "    {\n",
      "        \"comment_id\": 3254,\n",
      "        \"hate_speech\": \"@USER Merkel tritt nicht mehr an. Und mit SarsCov2 werden wir noch lange zu tun haben. Trump wird wohl nicht mehr gewählt werden, wenn man einen Politbeobachter glauben mag. Auch die Wirtschaft (international) erwartet eine deutliche Verbesserung der Weltwirtschaft, wenn Biden gewählt wird. Von daher sollte es Sie schon interessieren, weil Deutschland Expotweltmeister ist.\",\n",
      "        \"correct_answer\": \"0\",\n",
      "        \"answer_from_ai\": \"0\"\n",
      "    }\n",
      "]\n"
     ]
    }
   ],
   "source": [
    "file_to_display = \"hate_speech_results.json\"\n",
    "file_path = os.path.join(output_folder, file_to_display)\n",
    "\n",
    "if os.path.exists(file_path):\n",
    "    with open(file_path, \"r\") as file:\n",
    "        results = json.load(file)\n",
    "        limited_results = results[\"hate_speech_results\"][\"content\"][:10]\n",
    "        \n",
    "        print(\"Contents of sentiment_analysis_results.json (first 10 results):\")\n",
    "        print(json.dumps(limited_results, indent=4, ensure_ascii=False))  \n",
    "else:\n",
    "    print(f\"The file {file_to_display} does not exist in the folder {output_folder}.\")"
   ],
   "metadata": {
    "collapsed": false,
    "ExecuteTime": {
     "end_time": "2024-02-11T12:54:46.598385Z",
     "start_time": "2024-02-11T12:54:46.551161Z"
    }
   },
   "id": "106d8a087cd227b9"
  },
  {
   "cell_type": "markdown",
   "source": [],
   "metadata": {
    "collapsed": false
   },
   "id": "3c64a21256c9f934"
  },
  {
   "cell_type": "markdown",
   "source": [
    "# Natural Language Quality Assessor \n",
    "\n",
    "\n",
    "<img src=\"images/nlp_quality.jpg\" alt=\"Metrics Summary\" width=\"1300\"/>"
   ],
   "metadata": {
    "collapsed": false
   },
   "id": "891e3be752f309c9"
  },
  {
   "cell_type": "markdown",
   "source": [
    "Dieses Skript ist darauf ausgelegt, die Qualität von Textantworten, die durch ein LLM generiert wurden, zu bewerten und dabei mehrere Aspekte, wie die Natürlichkeit und Flüssigkeit eines Textes, semantische Ähnlichkeit und Schlüsselwortübereinstimmung zu betrachten."
   ],
   "metadata": {
    "collapsed": false
   },
   "id": "669e1dd834b502fa"
  },
  {
   "cell_type": "markdown",
   "source": [
    "## Naturalness, Semantic Similarity und Keywords in Response testen"
   ],
   "metadata": {
    "collapsed": false
   },
   "id": "58b9192e8029acbb"
  },
  {
   "cell_type": "code",
   "execution_count": null,
   "outputs": [],
   "source": [
    "evaluate_generated_text_quality(output_folder)"
   ],
   "metadata": {
    "collapsed": false
   },
   "id": "d1a7663f1092a9f4"
  },
  {
   "cell_type": "markdown",
   "source": [
    "# Contains Verb Check"
   ],
   "metadata": {
    "collapsed": false
   },
   "id": "35a4063ac4ac7bb8"
  },
  {
   "cell_type": "markdown",
   "source": [],
   "metadata": {
    "collapsed": false
   },
   "id": "4de1b6c9bfcb02b5"
  },
  {
   "cell_type": "code",
   "execution_count": null,
   "outputs": [],
   "source": [
    "run_contains_verb(output_folder)"
   ],
   "metadata": {
    "collapsed": false
   },
   "id": "f17aa6997163c30f"
  },
  {
   "cell_type": "code",
   "execution_count": null,
   "outputs": [],
   "source": [
    "file_to_display = \"contains_verb_results.json\"\n",
    "file_path = os.path.join(output_folder, file_to_display)\n",
    "\n",
    "if os.path.exists(file_path):\n",
    "    with open(file_path, \"r\") as file:\n",
    "        contains_v_results = json.load(file)\n",
    "        limited_results = contains_v_results[\"contains_verb_results\"][:10]\n",
    "        \n",
    "        print(\"Contents of contains_verb_results.json (first 10 results):\")\n",
    "        print(json.dumps(limited_results, indent=4, ensure_ascii=False))  \n",
    "else:\n",
    "    print(f\"The file {file_to_display} does not exist in the folder {output_folder}.\")"
   ],
   "metadata": {
    "collapsed": false
   },
   "id": "1bc413485772f2a5"
  }
 ],
 "metadata": {
  "kernelspec": {
   "display_name": "Python 3 (ipykernel)",
   "language": "python",
   "name": "python3"
  },
  "language_info": {
   "codemirror_mode": {
    "name": "ipython",
    "version": 3
   },
   "file_extension": ".py",
   "mimetype": "text/x-python",
   "name": "python",
   "nbconvert_exporter": "python",
   "pygments_lexer": "ipython3",
   "version": "3.11.5"
  }
 },
 "nbformat": 4,
 "nbformat_minor": 5
}
