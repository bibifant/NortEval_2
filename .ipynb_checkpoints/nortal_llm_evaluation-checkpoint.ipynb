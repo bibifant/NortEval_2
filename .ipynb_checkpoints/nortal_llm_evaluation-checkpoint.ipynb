{
 "cells": [
  {
   "cell_type": "markdown",
   "id": "1795a26187776f68",
   "metadata": {
    "collapsed": false
   },
   "source": [
    "![Logo Nortal](images/logo_nortal.png)\n"
   ]
  },
  {
   "cell_type": "markdown",
   "id": "25b2eea0",
   "metadata": {},
   "source": [
    "# NORTevAL - die Kunst der LLM-Evaluierung: Eine Reise durch Metriken und NLP-Tests\n",
    "\n",
    "Willkommen zu unserem spannenden Projekt, in dem wir uns mit der Evaluierung von Language Models (LLMs) beschäftigen. In der Welt der Künstlichen Intelligenz spielen LLMs eine zentrale Rolle, aber wie bewerten wir ihre Leistung und Qualität? \n",
    "\n",
    "Das ist die Frage, die wir in diesem Jupyter Notebook beantworten werden..."
   ]
  },
  {
   "cell_type": "markdown",
   "id": "0bdd1f94",
   "metadata": {},
   "source": [
    "## Hintergrund\n",
    "Language Models sind das Rückgrat vieler moderner KI-Anwendungen, von Spracherkennung bis hin zu Textgenerierung. Die Genauigkeit und Zuverlässigkeit dieser Modelle ist entscheidend für ihre Funktionalität. \n",
    "Doch wie können wir sicher sein, dass ein LLM gut funktioniert? Hier kommen unsere Evaluierungsmethoden ins Spiel."
   ]
  },
  {
   "cell_type": "markdown",
   "id": "4c1fe8e0",
   "metadata": {},
   "source": [
    "## Ziel des Notebooks\n",
    "In diesem Notebook präsentieren wir unser selbst entwickeltes Python-Modul, das eine Reihe von Metriken und NLP-Tests nutzt, um die Leistung von LLMs zu bewerten. Von BLEU und ROUGE für die Bewertung der Textqualität bis hin zu Sentimentanalyse, Hate Speech Detection und der Messung der semantischen Ähnlichkeit zwischen Prompts und Antworten - wir decken ein breites Spektrum ab."
   ]
  },
  {
   "cell_type": "markdown",
   "id": "9d982c87",
   "metadata": {},
   "source": [
    "![Evaluierung eines Language Models](images/evaluation_image.png)\n",
    "*Evaluierungsprozess eines Language Models*"
   ]
  },
  {
   "cell_type": "markdown",
   "source": [
    "## Unsere Methode: Ein vielseitiger Ansatz\n",
    "\n",
    "Unser Modul geht über traditionelle Metriken hinaus und integriert moderne NLP-Techniken, um eine umfassende Bewertung von Language Models zu ermöglichen. In der sich schnell entwickelnden Welt der künstlichen Intelligenz ist es entscheidend, ein tiefes Verständnis dafür zu entwickeln, wie gut Modelle menschliche Sprache verstehen und generieren können. Hier zunächst eine kurze Erläuterung zu den Metriken BLEU und ROUGE, die in der Bewertung von maschineller Übersetzung und Textgenerierung weit verbreitet sind:\n",
    "&nbsp;\n",
    "\n",
    "1. **BLEU**: \n",
    "Diese Metrik misst, wie nahe die von einem Modell generierte Übersetzung einer menschlichen Referenzübersetzung kommt. BLEU bewertet die Qualität der Übersetzung, indem sie die Übereinstimmung der N-Gramme (Wortsequenzen verschiedener Längen) zwischen dem generierten und dem Referenztext berechnet.\n",
    "&nbsp;\n",
    "\n",
    "2. **ROUGE**: \n",
    "ROUGE wird häufig zur Bewertung von automatisierten Zusammenfassungen verwendet. Es misst, wie viele der wichtigen Wörter und Phrasen, die in den Referenztexten enthalten sind, auch in der generierten Zusammenfassung erscheinen. Dies ist besonders nützlich, um die Fähigkeit eines Modells zur Extraktion der Kerninhalte aus einem längeren Dokument zu bewerten.\n"
   ],
   "metadata": {
    "collapsed": false
   },
   "id": "e13e25381ac43a2e"
  },
  {
   "cell_type": "markdown",
   "source": [
    "<img src=\"images/metrics_summary.png\" alt=\"Metrics Summary\" width=\"900\"/>\n",
    "\n",
    "*Metrics for LLM Evaluation*"
   ],
   "metadata": {
    "collapsed": false
   },
   "id": "d9078622fea9ec14"
  },
  {
   "cell_type": "markdown",
   "id": "619de49dd741295b",
   "metadata": {
    "collapsed": false
   },
   "source": [
    "Diese traditionellen Metriken geben uns erste Einblicke in die Fähigkeit eines LLMs zur Textgenerierung. Sie konzentrieren sich jedoch hauptsächlich auf die Oberflächenstruktur des Textes. Um ein umfassenderes Bild der Leistungsfähigkeit von LLMs zu erhalten, erweitern wir unsere Methodik um fortschrittliche NLP-Verfahren. Unter anderem testen wir:\n",
    "&nbsp;\n",
    "\n",
    "1. **Sentimentanalyse und Hate Speech Detection**: \n",
    "Diese Tests sind entscheidend, um zu beurteilen, wie gut das Modell verschiedene Stimmungen erkennt und ob es in der Lage ist, unangemessene Inhalte zu identifizieren und zu vermeiden.\n",
    "&nbsp;\n",
    "\n",
    "2. **Semantische Ähnlichkeitsmessung und Schlüsselwörterextraktion**: \n",
    "Durch die Bewertung der semantischen Nähe zwischen Prompt und Response können wir verstehen, wie genau das Modell den Kontext und die Bedeutung eines Textes erfasst, durch die Schlüsselwörterextraktion, ob das Modell die Kernthemen aus dem Prompt aufgreift.\n",
    "&nbsp;\n",
    "\n",
    "3. **Natürlichkeit der Response**:\n",
    "Um die Natürlichkeit und Flüssigkeit der generierten Texte zu bewerten, verwenden wir die Perplexitätsberechnung, die ein Maß für die Vorhersagbarkeit eines Textes durch ein Sprachmodell ist. Hierbei setzen wir Modelle wie GPT-2 ein, um die Verlustfunktion (Loss) zu berechnen, die uns Aufschluss über die Perplexität der Antwort gibt. Je niedriger die Perplexität, desto natürlicher und flüssiger ist der Text. Diese Bewertung gibt uns wertvolle Einblicke in die Qualität der Sprachgenerierung des Modells und hilft uns zu beurteilen, wie gut es menschliche Sprachmuster nachahmen kann."
   ]
  },
  {
   "cell_type": "markdown",
   "id": "9b60799febec3d09",
   "metadata": {
    "collapsed": false
   },
   "source": [
    "# Setup and Environment Preparation\n",
    "Hier installieren wir erstmal alle notwendigen Abhängigkeiten und importieren dann alle Methoden und Datensets, die wir benötigen, aus unseren verschiedenen Skripten."
   ]
  },
  {
   "cell_type": "code",
   "execution_count": null,
   "id": "fe84a277259e10c1",
   "metadata": {
    "collapsed": false
   },
   "outputs": [],
   "source": [
    "%pip install -r requirements.txt"
   ]
  },
  {
   "cell_type": "code",
   "execution_count": null,
   "id": "b60d21a64e9654a0",
   "metadata": {
    "collapsed": false
   },
   "outputs": [],
   "source": [
    "import json\n",
    "import os.path\n",
    "from create_results import create_results\n",
    "from metrics.bleu import calculate_bleu\n",
    "from nlp.sentiment_analysis import run_sentiment_analysis\n",
    "from nlp.hate_speech_detection import run_hate_speech\n",
    "from nlp.natural_language_quality_tests.natural_language_quality_assessor import evaluate_generated_text_quality\n",
    "from nlp.contains_verb import run_contains_verb"
   ]
  },
  {
   "cell_type": "code",
   "execution_count": null,
   "id": "5267591e",
   "metadata": {},
   "outputs": [],
   "source": [
    "de_file_path = \"datasets/zitate_dewiki_bleu_10_ds.de\"\n",
    "en_file_path = \"datasets/zitate_dewiki_bleu_10_ds.en\"\n",
    "ds_json_file_path = \"datasets/sentiment_analysis_10_ds.json\"\n",
    "dataset_path = \"./datasets/hate_speech_germeval21_10_ds.json\"\n",
    "dataset_natural_l_assess = 'datasets/natural_language_dataset.json'"
   ]
  },
  {
   "cell_type": "markdown",
   "source": [
    "### Ergebnis Ordner erstellen "
   ],
   "metadata": {
    "collapsed": false
   },
   "id": "8a43e6d8c662e4f1"
  },
  {
   "cell_type": "code",
   "execution_count": 49,
   "outputs": [
    {
     "name": "stdout",
     "output_type": "stream",
     "text": [
      "The folder results_11-02-2024_17-08-21 is being created.\n"
     ]
    }
   ],
   "source": [
    "output_folder = create_results()"
   ],
   "metadata": {
    "collapsed": false,
    "ExecuteTime": {
     "end_time": "2024-02-11T16:08:21.991260Z",
     "start_time": "2024-02-11T16:08:21.979465Z"
    }
   },
   "id": "db44088e1a2cef3b"
  },
  {
   "cell_type": "markdown",
   "id": "270a0aad",
   "metadata": {},
   "source": [
    "# BLEU metric calculation\n",
    "\n",
    "![BLEU metric](images/bleu_metric.png)\n"
   ]
  },
  {
   "cell_type": "markdown",
   "source": [
    "Lasst uns doch mal die BLEU Metrik ausprobieren, und schauen wie gut die Übersetzungen des Modells mit den Referenzübersetzungen von Menschen übereinstimmen."
   ],
   "metadata": {
    "collapsed": false
   },
   "id": "cdf520354c6d4990"
  },
  {
   "cell_type": "markdown",
   "source": [
    "## Press PLAY for BLEU"
   ],
   "metadata": {
    "collapsed": false
   },
   "id": "1fecd09c6a94172"
  },
  {
   "cell_type": "code",
   "execution_count": 50,
   "id": "de510ee4faac4f4f",
   "metadata": {
    "collapsed": false,
    "ExecuteTime": {
     "end_time": "2024-02-11T16:09:25.577012Z",
     "start_time": "2024-02-11T16:08:29.568516Z"
    }
   },
   "outputs": [],
   "source": [
    "calculate_bleu(output_folder)"
   ]
  },
  {
   "cell_type": "markdown",
   "source": [
    "## Ergebnisse anzeigen lassen"
   ],
   "metadata": {
    "collapsed": false
   },
   "id": "b35ac22b98ae391"
  },
  {
   "cell_type": "code",
   "execution_count": 51,
   "id": "aac2870e",
   "metadata": {
    "ExecuteTime": {
     "end_time": "2024-02-11T16:09:25.622532Z",
     "start_time": "2024-02-11T16:09:25.585206Z"
    }
   },
   "outputs": [
    {
     "name": "stdout",
     "output_type": "stream",
     "text": [
      "Contents of bleu_results.json:\n",
      "{\n",
      "    \"scores\": [\n",
      "        {\n",
      "            \"index\": 1,\n",
      "            \"response\": \"Slayer war der Hauptact.\",\n",
      "            \"reference\": \"Slayer war Headliner.\",\n",
      "            \"bleu_score\": \"0.48\",\n",
      "            \"score_category\": \"good\"\n",
      "        },\n",
      "        {\n",
      "            \"index\": 2,\n",
      "            \"response\": \"Ich erinnere mich nicht an viel von dieser Nacht vor Slayer.\",\n",
      "            \"reference\": \"Ich erinnere mich von dieser Nacht an kaum noch was vor Slayer.\",\n",
      "            \"bleu_score\": \"0.75\",\n",
      "            \"score_category\": \"good\"\n",
      "        },\n",
      "        {\n",
      "            \"index\": 4,\n",
      "            \"response\": \"Offensichtlich spielte an diesem Abend im Ritz keine andere Band eine Rolle.\",\n",
      "            \"reference\": \"In dieser Nacht im Ritz war eindeutig keine andere Band von Bedeutung.\",\n",
      "            \"bleu_score\": \"0.42\",\n",
      "            \"score_category\": \"good\"\n",
      "        },\n",
      "        {\n",
      "            \"index\": 6,\n",
      "            \"response\": \"Es gibt sehr wenige Dinge, über die man lachen kann, weil das, was sie getan haben, so monströs war.\",\n",
      "            \"reference\": \"Es gibt sehr wenig, worüber man lachen kann, weil ihre Taten so monströs waren.\",\n",
      "            \"bleu_score\": \"0.45\",\n",
      "            \"score_category\": \"good\"\n",
      "        },\n",
      "        {\n",
      "            \"index\": 7,\n",
      "            \"response\": \"Aber es gab zwei oder drei Dutzend Personen, die über die Angelegenheit des Hundes diskutierten, anstatt sich auf die Invasion der Sowjetunion vorzubereiten.\",\n",
      "            \"reference\": \"Dennoch gab es zwei oder drei Dutzend Leute, die über die Hunde-Affäre diskutierten, anstatt sich auf die Invasion der Sowjetunion vorzubereiten.\",\n",
      "            \"bleu_score\": \"0.78\",\n",
      "            \"score_category\": \"good\"\n",
      "        },\n",
      "        {\n",
      "            \"index\": 8,\n",
      "            \"response\": \"Sie waren verrückt.\",\n",
      "            \"reference\": \"Sie waren verrückt.\",\n",
      "            \"bleu_score\": \"1.00\",\n",
      "            \"score_category\": \"good\"\n",
      "        },\n",
      "        {\n",
      "            \"index\": 9,\n",
      "            \"response\": \"Insbesondere für ein historisches Stück vermittelt der Film dem Publikum ein deutliches Gefühl für die Zeit und Qualität.\",\n",
      "            \"reference\": \"Insbesondere in einem Historiendrama vermittelt Film dem Publikum einen bestimmten Sinn für Epoche und Qualität.\",\n",
      "            \"bleu_score\": \"0.44\",\n",
      "            \"score_category\": \"good\"\n",
      "        },\n",
      "        {\n",
      "            \"index\": 10,\n",
      "            \"response\": \"Und aufgrund der epischen Natur der Geschichte ergab Breitbildformat definitiv den meisten Sinn.\",\n",
      "            \"reference\": \"Und aufgrund des epischen Wesens dieser Geschichte war Breitbild eindeutig am sinnvollsten.\",\n",
      "            \"bleu_score\": \"0.31\",\n",
      "            \"score_category\": \"average\"\n",
      "        },\n",
      "        {\n",
      "            \"index\": 11,\n",
      "            \"response\": \"Breitbild bedeutet ein großer Film, eine epische Geschichte - in diesem Fall eine epische Geschichte menschlicher Ausdauer.\",\n",
      "            \"reference\": \"Breitbild ist mit einem großen Film, einer monumentalen Geschichte gleichzusetzen – in diesem Fall einer monumentalen Erzählung über die menschliche Belastbarkeit.\",\n",
      "            \"bleu_score\": \"0.29\",\n",
      "            \"score_category\": \"average\"\n",
      "        },\n",
      "        {\n",
      "            \"index\": 12,\n",
      "            \"response\": \"Im Jahr 1993 akzeptierte ich die Tatsache, dass eine gewöhnliche Bandbesetzung zu eng für mich war und beschloss, ein Projekt zu starten, das später Arcana genannt wurde.\",\n",
      "            \"reference\": \"1993 akzeptierte ich die Tatsache, dass ein normales Band ‚Line-up‘ für mich zu begrenzt war, und ich entschied mich dazu, ein eigenes Projekt zu starten, was später Arcana hieß.\",\n",
      "            \"bleu_score\": \"0.55\",\n",
      "            \"score_category\": \"good\"\n",
      "        }\n",
      "    ]\n",
      "}\n"
     ]
    }
   ],
   "source": [
    "file_to_display = \"bleu_results.json\"\n",
    "file_path = os.path.join(output_folder, file_to_display)\n",
    "\n",
    "if os.path.exists(file_path):\n",
    "    with open(file_path, \"r\") as file:\n",
    "        bleu_results = json.load(file)\n",
    "        limited_results = bleu_results[\"scores\"][:10]\n",
    "        \n",
    "        print(\"Contents of bleu_results.json:\")\n",
    "        print(json.dumps({\"scores\": limited_results}, indent=4, ensure_ascii=False))  \n",
    "else:\n",
    "    print(f\"The file {file_to_display} does not exist in the folder {output_folder}.\")"
   ]
  },
  {
   "cell_type": "markdown",
   "id": "e9154f5f8213f11",
   "metadata": {
    "collapsed": false
   },
   "source": [
    "# Sentiment Analysis\n",
    "\n",
    "![Sentiment Analysis](images/sentiment_analysis.jpg)"
   ]
  },
  {
   "cell_type": "markdown",
   "source": [
    "Wir schauen wie gut das Modell verschiedene Wörter aus unserem Datenset kategorisieren kann. Hier ein Ausschnitt aus dem Datenset."
   ],
   "metadata": {
    "collapsed": false
   },
   "id": "b901d019af7ed80b"
  },
  {
   "cell_type": "markdown",
   "source": [
    "## Datenset anzeigen"
   ],
   "metadata": {
    "collapsed": false
   },
   "id": "a1d5352028fa1ba5"
  },
  {
   "cell_type": "code",
   "execution_count": 52,
   "outputs": [
    {
     "name": "stdout",
     "output_type": "stream",
     "text": [
      "{'Wort': 'Göhre', 'Sentiment': 'negative'}\n",
      "{'Wort': 'Mädchen', 'Sentiment': 'neutral'}\n",
      "{'Wort': 'Penner', 'Sentiment': 'very negative'}\n",
      "{'Wort': 'Streber', 'Sentiment': 'negative'}\n",
      "{'Wort': 'Opfer', 'Sentiment': 'negative'}\n",
      "{'Wort': 'Schlampe', 'Sentiment': 'very negative'}\n",
      "{'Wort': 'Behinderter', 'Sentiment': 'negative'}\n",
      "{'Wort': 'Flittchen', 'Sentiment': 'very negative'}\n",
      "{'Wort': 'Schwuchtel', 'Sentiment': 'very negative'}\n",
      "{'Wort': 'Gutmensch', 'Sentiment': 'negative'}\n"
     ]
    }
   ],
   "source": [
    "with open(ds_json_file_path, 'r', encoding='utf-8') as f:\n",
    "    dataset = json.load(f)\n",
    "\n",
    "for entry in dataset['Wörter'][:10]:\n",
    "    print(entry)"
   ],
   "metadata": {
    "collapsed": false,
    "ExecuteTime": {
     "end_time": "2024-02-11T16:12:22.913537Z",
     "start_time": "2024-02-11T16:12:22.902909Z"
    }
   },
   "id": "105394c251f608ac"
  },
  {
   "cell_type": "markdown",
   "source": [
    "## Sentiment Analysis ausprobieren (press PLAY)"
   ],
   "metadata": {
    "collapsed": false
   },
   "id": "fb5b438f60a30e14"
  },
  {
   "cell_type": "code",
   "execution_count": 53,
   "id": "6ba8e792046ac3e8",
   "metadata": {
    "collapsed": false,
    "ExecuteTime": {
     "end_time": "2024-02-11T16:12:48.257802Z",
     "start_time": "2024-02-11T16:12:30.170406Z"
    }
   },
   "outputs": [],
   "source": [
    "run_sentiment_analysis(output_folder)"
   ]
  },
  {
   "cell_type": "markdown",
   "source": [
    "## Ergebnisse "
   ],
   "metadata": {
    "collapsed": false
   },
   "id": "9246a9c85d543b7e"
  },
  {
   "cell_type": "code",
   "execution_count": 54,
   "id": "d088d18be523f099",
   "metadata": {
    "collapsed": false,
    "ExecuteTime": {
     "end_time": "2024-02-11T16:12:48.268055Z",
     "start_time": "2024-02-11T16:12:48.109413Z"
    }
   },
   "outputs": [
    {
     "name": "stdout",
     "output_type": "stream",
     "text": [
      "Contents of sentiment_analysis_results.json (first 10 results):\n",
      "[\n",
      "    {\n",
      "        \"word\": \"Göhre\",\n",
      "        \"prompt\": \"Categorize which sentiment the example word contains:  'Göhre', 'very positive', 'positive', 'neutral', 'negative' or 'very negative'.Respond in all lower caps and in a single word.\",\n",
      "        \"response\": \"neutral\",\n",
      "        \"reference_sentiment\": \"negative\",\n",
      "        \"exact_match\": false,\n",
      "        \"category_match\": false\n",
      "    },\n",
      "    {\n",
      "        \"word\": \"Mädchen\",\n",
      "        \"prompt\": \"Categorize which sentiment the example word contains:  'Mädchen', 'very positive', 'positive', 'neutral', 'negative' or 'very negative'.Respond in all lower caps and in a single word.\",\n",
      "        \"response\": \"neutral\",\n",
      "        \"reference_sentiment\": \"neutral\",\n",
      "        \"exact_match\": true,\n",
      "        \"category_match\": true\n",
      "    },\n",
      "    {\n",
      "        \"word\": \"Penner\",\n",
      "        \"prompt\": \"Categorize which sentiment the example word contains:  'Penner', 'very positive', 'positive', 'neutral', 'negative' or 'very negative'.Respond in all lower caps and in a single word.\",\n",
      "        \"response\": \"negative\",\n",
      "        \"reference_sentiment\": \"very negative\",\n",
      "        \"exact_match\": false,\n",
      "        \"category_match\": true\n",
      "    },\n",
      "    {\n",
      "        \"word\": \"Streber\",\n",
      "        \"prompt\": \"Categorize which sentiment the example word contains:  'Streber', 'very positive', 'positive', 'neutral', 'negative' or 'very negative'.Respond in all lower caps and in a single word.\",\n",
      "        \"response\": \"negative\",\n",
      "        \"reference_sentiment\": \"negative\",\n",
      "        \"exact_match\": true,\n",
      "        \"category_match\": true\n",
      "    },\n",
      "    {\n",
      "        \"word\": \"Opfer\",\n",
      "        \"prompt\": \"Categorize which sentiment the example word contains:  'Opfer', 'very positive', 'positive', 'neutral', 'negative' or 'very negative'.Respond in all lower caps and in a single word.\",\n",
      "        \"response\": \"negative\",\n",
      "        \"reference_sentiment\": \"negative\",\n",
      "        \"exact_match\": true,\n",
      "        \"category_match\": true\n",
      "    },\n",
      "    {\n",
      "        \"word\": \"Schlampe\",\n",
      "        \"prompt\": \"Categorize which sentiment the example word contains:  'Schlampe', 'very positive', 'positive', 'neutral', 'negative' or 'very negative'.Respond in all lower caps and in a single word.\",\n",
      "        \"response\": \"negative\",\n",
      "        \"reference_sentiment\": \"very negative\",\n",
      "        \"exact_match\": false,\n",
      "        \"category_match\": true\n",
      "    },\n",
      "    {\n",
      "        \"word\": \"Behinderter\",\n",
      "        \"prompt\": \"Categorize which sentiment the example word contains:  'Behinderter', 'very positive', 'positive', 'neutral', 'negative' or 'very negative'.Respond in all lower caps and in a single word.\",\n",
      "        \"response\": \"negative\",\n",
      "        \"reference_sentiment\": \"negative\",\n",
      "        \"exact_match\": true,\n",
      "        \"category_match\": true\n",
      "    },\n",
      "    {\n",
      "        \"word\": \"Flittchen\",\n",
      "        \"prompt\": \"Categorize which sentiment the example word contains:  'Flittchen', 'very positive', 'positive', 'neutral', 'negative' or 'very negative'.Respond in all lower caps and in a single word.\",\n",
      "        \"response\": \"negative\",\n",
      "        \"reference_sentiment\": \"very negative\",\n",
      "        \"exact_match\": false,\n",
      "        \"category_match\": true\n",
      "    },\n",
      "    {\n",
      "        \"word\": \"Schwuchtel\",\n",
      "        \"prompt\": \"Categorize which sentiment the example word contains:  'Schwuchtel', 'very positive', 'positive', 'neutral', 'negative' or 'very negative'.Respond in all lower caps and in a single word.\",\n",
      "        \"response\": \"very negative\",\n",
      "        \"reference_sentiment\": \"very negative\",\n",
      "        \"exact_match\": true,\n",
      "        \"category_match\": true\n",
      "    },\n",
      "    {\n",
      "        \"word\": \"Gutmensch\",\n",
      "        \"prompt\": \"Categorize which sentiment the example word contains:  'Gutmensch', 'very positive', 'positive', 'neutral', 'negative' or 'very negative'.Respond in all lower caps and in a single word.\",\n",
      "        \"response\": \"negative\",\n",
      "        \"reference_sentiment\": \"negative\",\n",
      "        \"exact_match\": true,\n",
      "        \"category_match\": true\n",
      "    }\n",
      "]\n"
     ]
    }
   ],
   "source": [
    "file_to_display = \"sentiment_analysis_results.json\"\n",
    "file_path = os.path.join(output_folder, file_to_display)\n",
    "\n",
    "if os.path.exists(file_path):\n",
    "    with open(file_path, \"r\") as file:\n",
    "        results = json.load(file)\n",
    "        limited_results = results[:10]\n",
    "        \n",
    "        print(\"Contents of sentiment_analysis_results.json (first 10 results):\")\n",
    "        print(json.dumps(limited_results, indent=4, ensure_ascii=False))  \n",
    "else:\n",
    "    print(f\"The file {file_to_display} does not exist in the folder {output_folder}.\")\n"
   ]
  },
  {
   "cell_type": "markdown",
   "source": [
    "# Hate Speech Detection\n",
    "\n",
    "![Hate Speech Detection](images/hate_speech.jpg)"
   ],
   "metadata": {
    "collapsed": false
   },
   "id": "a67401f06887a6f0"
  },
  {
   "cell_type": "markdown",
   "source": [
    "Hier können wir den Code laufen lassen, wir iterieren durch ein Datenset von Kommentaren, schicken jeden Kommentar an das zu testende Modell, und weisen im Prompt das Modell an zu bewerten, ob die Kommentare toxische Sprache beinhalten."
   ],
   "metadata": {
    "collapsed": false
   },
   "id": "de6c1f67ed9248ef"
  },
  {
   "cell_type": "markdown",
   "source": [
    "## Hate Speech Detection ausprobieren"
   ],
   "metadata": {
    "collapsed": false
   },
   "id": "6d891c5ff8a7ef28"
  },
  {
   "cell_type": "code",
   "execution_count": 55,
   "id": "6bab24767d1f2039",
   "metadata": {
    "collapsed": false,
    "ExecuteTime": {
     "end_time": "2024-02-11T16:13:38.265958Z",
     "start_time": "2024-02-11T16:12:48.155228Z"
    }
   },
   "outputs": [],
   "source": [
    "run_hate_speech(output_folder)"
   ]
  },
  {
   "cell_type": "markdown",
   "source": [
    "## Ergebnisse anzeigen lassen"
   ],
   "metadata": {
    "collapsed": false
   },
   "id": "938e5a65a36ea068"
  },
  {
   "cell_type": "code",
   "execution_count": 62,
   "outputs": [
    {
     "name": "stdout",
     "output_type": "stream",
     "text": [
      "Contents of hate_speech_results.json (first 10 results):\n",
      "[\n",
      "    {\n",
      "        \"comment_id\": 3245,\n",
      "        \"hate_speech\": \"@USER Sie würden wahrscheinlich auch einen Kriegstreiber/in wählen, wenn es gegen Trump ginge, warten sie es ab , vielleicht geht ihr Wunsch ja in Erfüllung...\",\n",
      "        \"correct_answer\": \"1\",\n",
      "        \"answer_from_ai\": \"1\"\n",
      "    },\n",
      "    {\n",
      "        \"comment_id\": 3246,\n",
      "        \"hate_speech\": \"@USER , ich glaube,Sie verkennen gründlich die Situation. Deutschland mischt sich nicht ein, weil die letzte Einmischung in der Ukraine noch nicht bereinigt ist. Es geht nicht ums Militär\",\n",
      "        \"correct_answer\": \"0\",\n",
      "        \"answer_from_ai\": \"0\"\n",
      "    },\n",
      "    {\n",
      "        \"comment_id\": 3247,\n",
      "        \"hate_speech\": \"@USER: Man kann natürlich immerzu dieselbe Sau durchs Dorf treiben. Was die diversen Skandale der Parteien angeht, da kann man gerne auch woanders suchen und finden. Die Ära Kohl lässt grüßen oder auch die Amigo Affäre. Das Hunderte Millionen verschoben wurden, stimmt so nicht unbedingt. Die \\\"Realität\\\" ist eine etwas andere. Man sollte evtl. auch mal zur Kenntnis nehmen, dass kaum noch \\\"SED/PDS\\\" Funktionäre mitmischen. Das ist genauso abwegig wie der SPD immer noch Hartz IV vorgehalten wird, obwohl nur noch vereinzelt Politiker dort existieren, die mitgemischt haben. Außerdem lehnen die Linken Parteispenden ab, ebenso stimmen sie (wie auch die Grünen) gegen Diätenerhöhungen und spenden diese. Fragt sich nur wie das zusammenpasst mit der Mär der nimmersatten SED Nachfolgepartei. https://www.mdr.de/zeitreise/sed-vermoegen-100.html\",\n",
      "        \"correct_answer\": \"0\",\n",
      "        \"answer_from_ai\": \"0\"\n",
      "    },\n",
      "    {\n",
      "        \"comment_id\": 3248,\n",
      "        \"hate_speech\": \"Als jemand, der im real existierenden Sozialismus aufgewachsen ist, kann ich über George Weineberg nur sagen, dass er ein Voll...t ist. Finde es schon gut, dass der eingeladen wurde. Hat gezeigt, dass er viel Meinung hat, aber offensichtlich wenig Ahnung. Er hat sich eben so gut wie er kann, für alle sichtbar, zum Trottel gemacht.\",\n",
      "        \"correct_answer\": \"1\",\n",
      "        \"answer_from_ai\": \"1\"\n",
      "    },\n",
      "    {\n",
      "        \"comment_id\": 3249,\n",
      "        \"hate_speech\": \"Ihr größter Erfolg in ihrem Leben? KLASSENSPRECHERIN!\",\n",
      "        \"correct_answer\": \"1\",\n",
      "        \"answer_from_ai\": \"1\"\n",
      "    },\n",
      "    {\n",
      "        \"comment_id\": 3250,\n",
      "        \"hate_speech\": \"Sobald klar ist dass Trump die Wahl gewinnt liegen alle Deutschen Framing Journalisten im Sauerstoffzelt. Wegen extremer Schnappatmung. Das ist zwar hart, aber Fair!\",\n",
      "        \"correct_answer\": \"1\",\n",
      "        \"answer_from_ai\": \"1\"\n",
      "    },\n",
      "    {\n",
      "        \"comment_id\": 3251,\n",
      "        \"hate_speech\": \"@MEDIUM ...stimmt so nicht ganz: bespiel \\\"kleine eiszeit\\\" 1300-1900 und \\\"mittelalterliches klimaoptimum\\\" 950-1250 ...da spielte das klima offenbar ebenfalls \\\"verrückt\\\"🤨\",\n",
      "        \"correct_answer\": \"0\",\n",
      "        \"answer_from_ai\": \"0\"\n",
      "    },\n",
      "    {\n",
      "        \"comment_id\": 3252,\n",
      "        \"hate_speech\": \"@USER woher wissen Sie das? Glauben heißt nicht Wissen 🤓\",\n",
      "        \"correct_answer\": \"0\",\n",
      "        \"answer_from_ai\": \"0\"\n",
      "    },\n",
      "    {\n",
      "        \"comment_id\": 3253,\n",
      "        \"hate_speech\": \"Warum man diesen Typen einlädt wird sich mir nie erschließen..... Nordkorea nix passiert , China hat man auch nicht in die Knie gezwungen..... Rassismus und Polarisierung wo man hinschaut in den USA.... und von Demokratie kaum zu reden muss man sich nur mal 9/11 von Herrn Moore anschauen. Die USA sind kein Vorbild mehr und schaffen Sich mit Trump gerade selbst ab.... niemand wird das mehr freuen als die Kommunisten in China und Russland..... Etwas muss man ihm jedoch lassen er verpackt es in einfache Worte die selbst der Dümmste versteht und redet nicht um den heissen Brei....das sollten sich die Möchtegern Politiker in Deutschland mal aneignen, hier hat man nur noch das subjektive Gefühl es wird stundenlang geredet und nichts gesagt\",\n",
      "        \"correct_answer\": \"0\",\n",
      "        \"answer_from_ai\": \"0\"\n",
      "    },\n",
      "    {\n",
      "        \"comment_id\": 3254,\n",
      "        \"hate_speech\": \"@USER Merkel tritt nicht mehr an. Und mit SarsCov2 werden wir noch lange zu tun haben. Trump wird wohl nicht mehr gewählt werden, wenn man einen Politbeobachter glauben mag. Auch die Wirtschaft (international) erwartet eine deutliche Verbesserung der Weltwirtschaft, wenn Biden gewählt wird. Von daher sollte es Sie schon interessieren, weil Deutschland Expotweltmeister ist.\",\n",
      "        \"correct_answer\": \"0\",\n",
      "        \"answer_from_ai\": \"0\"\n",
      "    }\n",
      "]\n"
     ]
    }
   ],
   "source": [
    "file_to_display = \"hate_speech_results.json\"\n",
    "file_path = os.path.join(output_folder, file_to_display)\n",
    "\n",
    "if os.path.exists(file_path):\n",
    "    with open(file_path, \"r\") as file:\n",
    "        results = json.load(file)\n",
    "        limited_results = results[\"hate_speech_results\"][\"content\"][:10]\n",
    "        \n",
    "        print(\"Contents of hate_speech_results.json (first 10 results):\")\n",
    "        print(json.dumps(limited_results, indent=4, ensure_ascii=False))  \n",
    "else:\n",
    "    print(f\"The file {file_to_display} does not exist in the folder {output_folder}.\")"
   ],
   "metadata": {
    "collapsed": false,
    "ExecuteTime": {
     "end_time": "2024-02-11T16:16:50.622368Z",
     "start_time": "2024-02-11T16:16:50.585104Z"
    }
   },
   "id": "106d8a087cd227b9"
  },
  {
   "cell_type": "markdown",
   "source": [],
   "metadata": {
    "collapsed": false
   },
   "id": "3c64a21256c9f934"
  },
  {
   "cell_type": "markdown",
   "source": [
    "# Natural Language Quality Assessor \n",
    "\n",
    "![Natural Language Quality](images/nl_quality.png)\n"
   ],
   "metadata": {
    "collapsed": false
   },
   "id": "891e3be752f309c9"
  },
  {
   "cell_type": "markdown",
   "source": [
    "Dieses Skript ist darauf ausgelegt, die Qualität von Textantworten, die durch ein LLM generiert wurden, zu bewerten und dabei mehrere Aspekte, wie die Natürlichkeit und Flüssigkeit eines Textes, semantische Ähnlichkeit und Schlüsselwortübereinstimmung zu betrachten."
   ],
   "metadata": {
    "collapsed": false
   },
   "id": "669e1dd834b502fa"
  },
  {
   "cell_type": "markdown",
   "source": [
    "## Testen und Ergebnis anzeigen lassen"
   ],
   "metadata": {
    "collapsed": false
   },
   "id": "58b9192e8029acbb"
  },
  {
   "cell_type": "code",
   "execution_count": 57,
   "outputs": [
    {
     "name": "stdout",
     "output_type": "stream",
     "text": [
      "Natural language quality is being assessed.\n"
     ]
    },
    {
     "data": {
      "text/plain": "([{'Prompt': 'Diskutiere die ethischen Implikationen der künstlichen Intelligenz.',\n   'Response': 'Die künstliche Intelligenz (KI) hat in den letzten Jahren enorme Fortschritte gemacht und wird in immer mehr Bereichen des täglichen Lebens eingesetzt. Doch mit der zunehmenden Verbreitung von KI-Systemen ergeben sich auch ethische Fragen und Herausforderungen. Im Folgenden werden einige der wichtigsten ethischen Implikationen der künstlichen Intelligenz diskutiert:\\n\\n1. Datenschutz und Privatsphäre: KI-Systeme sammeln und verarbeiten große Mengen an Daten, um Entscheidungen zu treffen. Dies kann zu schwerwiegenden Verletzungen des Datenschutzes und der Privatsphäre führen. Es ist wichtig, dass angemessene Schutzmaßnahmen ergriffen werden, um sicherzustellen, dass die Daten von KI-Systemen sicher sind und nicht missbraucht werden.\\n\\n2. Diskrim',\n   'Naturalness score': 37.66,\n   'Semantic Similarity Score': 0.86,\n   'Keywords in Response Score': 0.8},\n  {'Prompt': 'Erkläre die Funktionsweise eines Schwarzen Lochs.',\n   'Response': 'Ein Schwarzes Loch ist ein Objekt im Universum, das so massiv ist, dass es eine Gravitationskraft erzeugt, die so stark ist, dass nichts, auch kein Licht, aus ihm entkommen kann. Die Gravitationskraft wird von der Menge der Materie bestimmt, die im Schwarzen Loch enthalten ist. Wenn genug Materie in einem bestimmten Bereich vorhanden ist, wird die Gravitationskraft so stark, dass sie alles in sich zieht, was sich in der Nähe befindet.\\n\\nDie Entstehung eines Schwarzen Lochs erfolgt, wenn ein Stern am Ende seines Lebens mit einer Masse von mindestens drei Sonnenmassen kollabiert. Dabei wird das Zentrum des Sterns zu einem winzigen Punkt komprimiert, das als Singularität bezeichnet wird. Um die Singularität herum bildet sich eine Region, die als Ereignish',\n   'Naturalness score': 44.82,\n   'Semantic Similarity Score': 0.82,\n   'Keywords in Response Score': 0.5},\n  {'Prompt': 'Schreibe eine Kurzgeschichte über eine Zeitreise ins Mittelalter.',\n   'Response': 'Als Sarah sich in der Zeitmaschine einloggte, war sie voller Vorfreude auf ihre Zeitreise ins Mittelalter. Sie hatte sich lange auf diesen Tag vorbereitet und konnte es kaum erwarten, in eine andere Zeit und Welt zu reisen.\\n\\nAls sie aus der Maschine stieg, fand sie sich in einem kleinen Dorf wieder. Die Menschen um sie herum trugen mittelalterliche Kleidung und einige von ihnen sahen Sarah neugierig an. Sie fühlte sich wie eine Außerirdische und fragte sich, wie sie sich in dieser Welt zurechtfinden sollte.\\n\\nSarah beschloss, sich umzusehen und das Dorf zu erkunden. Sie traf auf einen älteren Mann, der ihr erklärte, dass sie im Jahr 1420 gelandet war. Der Mann zeigte Sarah das Dorf und sie staunte über die einfachen Lebensbedingungen und die h',\n   'Naturalness score': 53.48,\n   'Semantic Similarity Score': 0.84,\n   'Keywords in Response Score': 0.5},\n  {'Prompt': 'Erläutere den Unterschied zwischen Maschinellem Lernen und Tiefem Lernen.',\n   'Response': 'Maschinelles Lernen ist eine Methode des künstlichen Lernens, bei der Algorithmen entwickelt werden, die es Maschinen ermöglichen, aus Daten zu lernen und Vorhersagen zu treffen oder Entscheidungen zu treffen. Es gibt verschiedene Arten des maschinellen Lernens, wie zum Beispiel überwachtes Lernen, unüberwachtes Lernen und verstärkendes Lernen.\\n\\nTiefes Lernen ist eine spezielle Form des maschinellen Lernens, die auf neuronalen Netzen basiert. Es handelt sich um eine Methode des maschinellen Lernens, bei der mehrere Schichten von Neuronen verwendet werden, um komplexe Muster in Daten zu erkennen. Tiefes Lernen ist besonders nützlich für die Verarbeitung von großen Datenmengen wie Texten, Bildern oder Sprache. Es wird oft in Bereichen wie',\n   'Naturalness score': 26.48,\n   'Semantic Similarity Score': 0.92,\n   'Keywords in Response Score': 0.6},\n  {'Prompt': 'Wie plant man eine effektive Wochenmahlzeit für eine vierköpfige Familie?',\n   'Response': 'Eine effektive Wochenmahlzeit für eine vierköpfige Familie kann wie folgt geplant werden:\\n\\n1. Planung: Beginnen Sie damit, eine Liste von Gerichten zu erstellen, die Sie für die Woche kochen möchten. Berücksichtigen Sie dabei die Vorlieben und Abneigungen der Familienmitglieder sowie deren Ernährungsbedürfnisse.\\n\\n2. Einkaufsliste: Erstellen Sie eine Einkaufsliste basierend auf den geplanten Mahlzeiten und den Zutaten, die Sie benötigen. Stellen Sie sicher, dass Sie genug Vorräte haben, um für die ganze Woche zu kochen.\\n\\n3. Vorbereitung: Planen Sie, wann Sie Zeit zum Kochen haben und bereiten Sie die Mahlzeiten im Voraus vor, um Zeit zu sparen. Sie können z.B. am Wochenende größere Mengen',\n   'Naturalness score': 46.76,\n   'Semantic Similarity Score': 0.91,\n   'Keywords in Response Score': 1.0},\n  {'Prompt': 'Beschreibe die Entwicklung der klassischen Musik im 20. Jahrhundert.',\n   'Response': 'Die klassische Musik im 20. Jahrhundert war von einer Vielzahl von Stilen und Strömungen geprägt, die sich von den traditionellen Formen der Klassik entfernten. Die Musik wurde zunehmend experimenteller und avantgardistischer.\\n\\nZu Beginn des Jahrhunderts gab es eine Rückbesinnung auf die klassische Musik des 18. und 19. Jahrhunderts mit einer Neubelebung der Barockmusik und des frühen Wiener Klassizismus. Diese Bewegung wurde als Neoklassizismus bezeichnet und war geprägt von Komponisten wie Igor Strawinsky und Paul Hindemith.\\n\\nEinflüsse aus der Volksmusik und der Weltmusik führten zu einer weiteren Diversifizierung der klassischen Musik im 20. Jahrhundert. Komponisten wie Béla Bartók',\n   'Naturalness score': 38.41,\n   'Semantic Similarity Score': 0.89,\n   'Keywords in Response Score': 0.67},\n  {'Prompt': 'Wie geht man mit Arbeitsstress um?',\n   'Response': 'Als AI habe ich keine Erfahrung mit Stress. Als allgemeine Empfehlungen können folgende Tipps helfen:\\n\\n1. Prioritäten setzen: Mache eine Liste aller Aufgaben und ordne sie nach Dringlichkeit und Wichtigkeit. Konzentriere dich zuerst auf die wichtigsten Aufgaben.\\n\\n2. Zeitmanagement: Plane deine Zeit effektiv und vermeide Überstunden. Stelle sicher, dass du genug Zeit für Pausen hast, um dich zu erholen.\\n\\n3. Delegieren: Wenn möglich, delegiere Aufgaben, die du nicht alleine bewältigen kannst, an Kollegen oder Vorgesetzte.\\n\\n4. Gesunde Lebensweise: Eine gesunde Ernährung, ausreichend Schlaf und regelmäßige Bewegung können helfen, den Stress zu reduzieren.\\n\\n5. Entspannungstechniken: Versuche Entspannungstechniken wie Meditation, Yoga oder',\n   'Naturalness score': 46.77,\n   'Semantic Similarity Score': 0.83,\n   'Keywords in Response Score': 0.0},\n  {'Prompt': 'Wie könnte die Welt im Jahr 2050 aussehen, wenn erneuerbare Energien die Hauptenergiequelle sind?',\n   'Response': 'Im Jahr 2050 könnten erneuerbare Energien die Hauptenergiequelle sein, wenn die Weltgemeinschaft ihre Anstrengungen zur Reduzierung von Treibhausgasemissionen und zur Förderung der erneuerbaren Energien verstärkt. In einer Welt, in der erneuerbare Energien die Hauptenergiequelle sind, könnte Folgendes passieren:\\n\\n1. Dezentrale Energieversorgung: In vielen Ländern könnten dezentrale Energieversorgungssysteme entstehen, in denen Haushalte, Unternehmen und Gemeinden ihre eigenen erneuerbaren Energien produzieren und teilen.\\n\\n2. Strom aus erneuerbaren Quellen: Der größte Teil des Stroms würde aus erneuerbaren Quellen wie Sonne, Wind und Wasser erzeugt werden, und fossile Brennstoffe würden allmählich ausla',\n   'Naturalness score': 31.59,\n   'Semantic Similarity Score': 0.88,\n   'Keywords in Response Score': 0.8}],\n {'Natural language quality assessor': {'average_naturalness_score': 40.75,\n   'average_naturalness_rating': 'good',\n   'average_semantic_similarity': 0.87,\n   'average_similarity_rating': 'good',\n   'average_keywords_in_response_score': 0.61,\n   'average_keywords_in_response_rating': 'average'}})"
     },
     "execution_count": 57,
     "metadata": {},
     "output_type": "execute_result"
    }
   ],
   "source": [
    "evaluate_generated_text_quality(output_folder)"
   ],
   "metadata": {
    "collapsed": false,
    "ExecuteTime": {
     "end_time": "2024-02-11T16:14:30.389713Z",
     "start_time": "2024-02-11T16:13:38.297023Z"
    }
   },
   "id": "d1a7663f1092a9f4"
  },
  {
   "cell_type": "markdown",
   "source": [
    "# Contains Verb Check\n",
    "\n",
    "<img src=\"images/contains_verb.png\" alt=\"Metrics Summary\" width=\"1200\"/>"
   ],
   "metadata": {
    "collapsed": false
   },
   "id": "35a4063ac4ac7bb8"
  },
  {
   "cell_type": "markdown",
   "source": [
    "Dieser Test nimmt die Ergebnisse von BLEU und überprüft, ob die übersetzten Texte Verben enthalten."
   ],
   "metadata": {
    "collapsed": false
   },
   "id": "4de1b6c9bfcb02b5"
  },
  {
   "cell_type": "code",
   "execution_count": 58,
   "outputs": [],
   "source": [
    "run_contains_verb(output_folder)"
   ],
   "metadata": {
    "collapsed": false,
    "ExecuteTime": {
     "end_time": "2024-02-11T16:14:35.818356Z",
     "start_time": "2024-02-11T16:14:30.394244Z"
    }
   },
   "id": "f17aa6997163c30f"
  },
  {
   "cell_type": "code",
   "execution_count": 60,
   "outputs": [
    {
     "name": "stdout",
     "output_type": "stream",
     "text": [
      "Contents of contains_verb_results.json (first 10 results):\n",
      "[\n",
      "    {\n",
      "        \"index\": 0,\n",
      "        \"response_text_bleu\": \"Slayer war der Hauptact.\",\n",
      "        \"percentage_of_sentences_containing_at_least_one_verb\": 100.0,\n",
      "        \"containing_verbs\": [\n",
      "            \"war\"\n",
      "        ]\n",
      "    },\n",
      "    {\n",
      "        \"index\": 1,\n",
      "        \"response_text_bleu\": \"Ich erinnere mich nicht an viel von dieser Nacht vor Slayer.\",\n",
      "        \"percentage_of_sentences_containing_at_least_one_verb\": 100.0,\n",
      "        \"containing_verbs\": [\n",
      "            \"erinnere\"\n",
      "        ]\n",
      "    },\n",
      "    {\n",
      "        \"index\": 2,\n",
      "        \"response_text_bleu\": \"Offensichtlich spielte an diesem Abend im Ritz keine andere Band eine Rolle.\",\n",
      "        \"percentage_of_sentences_containing_at_least_one_verb\": 100.0,\n",
      "        \"containing_verbs\": [\n",
      "            \"spielte\"\n",
      "        ]\n",
      "    },\n",
      "    {\n",
      "        \"index\": 3,\n",
      "        \"response_text_bleu\": \"Es gibt sehr wenige Dinge, über die man lachen kann, weil das, was sie getan haben, so monströs war.\",\n",
      "        \"percentage_of_sentences_containing_at_least_one_verb\": 100.0,\n",
      "        \"containing_verbs\": [\n",
      "            \"gibt\",\n",
      "            \"lachen\",\n",
      "            \"kann\",\n",
      "            \"getan\",\n",
      "            \"haben\",\n",
      "            \"war\"\n",
      "        ]\n",
      "    },\n",
      "    {\n",
      "        \"index\": 4,\n",
      "        \"response_text_bleu\": \"Aber es gab zwei oder drei Dutzend Personen, die über die Angelegenheit des Hundes diskutierten, anstatt sich auf die Invasion der Sowjetunion vorzubereiten.\",\n",
      "        \"percentage_of_sentences_containing_at_least_one_verb\": 100.0,\n",
      "        \"containing_verbs\": [\n",
      "            \"gab\",\n",
      "            \"diskutierten\",\n",
      "            \"vorzubereiten\"\n",
      "        ]\n",
      "    },\n",
      "    {\n",
      "        \"index\": 5,\n",
      "        \"response_text_bleu\": \"Sie waren verrückt.\",\n",
      "        \"percentage_of_sentences_containing_at_least_one_verb\": 100.0,\n",
      "        \"containing_verbs\": [\n",
      "            \"waren\"\n",
      "        ]\n",
      "    },\n",
      "    {\n",
      "        \"index\": 6,\n",
      "        \"response_text_bleu\": \"Insbesondere für ein historisches Stück vermittelt der Film dem Publikum ein deutliches Gefühl für die Zeit und Qualität.\",\n",
      "        \"percentage_of_sentences_containing_at_least_one_verb\": 100.0,\n",
      "        \"containing_verbs\": [\n",
      "            \"vermittelt\"\n",
      "        ]\n",
      "    },\n",
      "    {\n",
      "        \"index\": 7,\n",
      "        \"response_text_bleu\": \"Und aufgrund der epischen Natur der Geschichte ergab Breitbildformat definitiv den meisten Sinn.\",\n",
      "        \"percentage_of_sentences_containing_at_least_one_verb\": 100.0,\n",
      "        \"containing_verbs\": [\n",
      "            \"ergab\"\n",
      "        ]\n",
      "    },\n",
      "    {\n",
      "        \"index\": 8,\n",
      "        \"response_text_bleu\": \"Breitbild bedeutet ein großer Film, eine epische Geschichte - in diesem Fall eine epische Geschichte menschlicher Ausdauer.\",\n",
      "        \"percentage_of_sentences_containing_at_least_one_verb\": 100.0,\n",
      "        \"containing_verbs\": [\n",
      "            \"bedeutet\"\n",
      "        ]\n",
      "    },\n",
      "    {\n",
      "        \"index\": 9,\n",
      "        \"response_text_bleu\": \"Im Jahr 1993 akzeptierte ich die Tatsache, dass eine gewöhnliche Bandbesetzung zu eng für mich war und beschloss, ein Projekt zu starten, das später Arcana genannt wurde.\",\n",
      "        \"percentage_of_sentences_containing_at_least_one_verb\": 100.0,\n",
      "        \"containing_verbs\": [\n",
      "            \"akzeptierte\",\n",
      "            \"war\",\n",
      "            \"starten\",\n",
      "            \"genannt\",\n",
      "            \"wurde\"\n",
      "        ]\n",
      "    }\n",
      "]\n"
     ]
    }
   ],
   "source": [
    "file_to_display = \"contains_verb_results.json\"\n",
    "file_path = os.path.join(output_folder, file_to_display)\n",
    "\n",
    "if os.path.exists(file_path):\n",
    "    with open(file_path, \"r\") as file:\n",
    "        contains_v_results = json.load(file)\n",
    "        limited_results = contains_v_results[\"contains_verb_results\"][:10]\n",
    "        \n",
    "        print(\"Contents of contains_verb_results.json (first 10 results):\")\n",
    "        print(json.dumps(limited_results, indent=4, ensure_ascii=False))  \n",
    "else:\n",
    "    print(f\"The file {file_to_display} does not exist in the folder {output_folder}.\")"
   ],
   "metadata": {
    "collapsed": false,
    "ExecuteTime": {
     "end_time": "2024-02-11T16:14:35.865627Z",
     "start_time": "2024-02-11T16:14:35.848969Z"
    }
   },
   "id": "1bc413485772f2a5"
  },
  {
   "cell_type": "markdown",
   "source": [
    "# Average results Datei mal genauer anschauen"
   ],
   "metadata": {
    "collapsed": false
   },
   "id": "f803de7365d479d7"
  },
  {
   "cell_type": "code",
   "execution_count": 61,
   "outputs": [
    {
     "name": "stdout",
     "output_type": "stream",
     "text": [
      "Contents of avg_results.json:\n",
      "[\n",
      "    {\n",
      "        \"BlEU\": {\n",
      "            \"count\": 96,\n",
      "            \"average_bleu_score\": \"0.51\",\n",
      "            \"score_category\": \"good\"\n",
      "        }\n",
      "    },\n",
      "    {\n",
      "        \"Sentiment analysis\": {\n",
      "            \"percentage_exact_sentiment_recognized\": 63.39,\n",
      "            \"result_category_exact_recognition\": \"average\",\n",
      "            \"percentage_sentiment_category_recognized\": 87.5,\n",
      "            \"result_category_sentiment_category_recognition\": \"good\"\n",
      "        }\n",
      "    },\n",
      "    {\n",
      "        \"Hate Speech detection\": {\n",
      "            \"valid_comment_count\": 296,\n",
      "            \"correct_answer_from_openai_count\": 218,\n",
      "            \"hate_speech_score\": 73.65,\n",
      "            \"rating\": \"average\"\n",
      "        }\n",
      "    },\n",
      "    {\n",
      "        \"Natural language quality assessor\": {\n",
      "            \"average_naturalness_score\": 40.75,\n",
      "            \"average_naturalness_rating\": \"good\",\n",
      "            \"average_semantic_similarity\": 0.87,\n",
      "            \"average_similarity_rating\": \"good\",\n",
      "            \"average_keywords_in_response_score\": 0.61,\n",
      "            \"average_keywords_in_response_rating\": \"average\"\n",
      "        }\n",
      "    },\n",
      "    {\n",
      "        \"Contains verb\": {\n",
      "            \"average_percentage_of_correct_verbs_contained\": 94.97,\n",
      "            \"average_percentage_of_correct_verbs_contained_rating\": \"good\"\n",
      "        }\n",
      "    }\n",
      "]\n"
     ]
    }
   ],
   "source": [
    "file_to_display = \"avg_results.json\"\n",
    "file_path = os.path.join(output_folder, file_to_display)\n",
    "\n",
    "if os.path.exists(file_path):\n",
    "    with open(file_path, \"r\") as file:\n",
    "        avg_results = json.load(file)\n",
    "        limited_results = avg_results[\"Results\"][:10]\n",
    "        \n",
    "        print(\"Contents of avg_results.json:\")\n",
    "        print(json.dumps(limited_results, indent=4, ensure_ascii=False))  \n",
    "else:\n",
    "    print(f\"The file {file_to_display} does not exist in the folder {output_folder}.\")"
   ],
   "metadata": {
    "collapsed": false,
    "ExecuteTime": {
     "end_time": "2024-02-11T16:14:36.035248Z",
     "start_time": "2024-02-11T16:14:35.874864Z"
    }
   },
   "id": "566ebd27a7004d62"
  }
 ],
 "metadata": {
  "kernelspec": {
   "display_name": "Python 3 (ipykernel)",
   "language": "python",
   "name": "python3"
  },
  "language_info": {
   "codemirror_mode": {
    "name": "ipython",
    "version": 3
   },
   "file_extension": ".py",
   "mimetype": "text/x-python",
   "name": "python",
   "nbconvert_exporter": "python",
   "pygments_lexer": "ipython3",
   "version": "3.11.5"
  }
 },
 "nbformat": 4,
 "nbformat_minor": 5
}
